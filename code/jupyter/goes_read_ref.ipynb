{
 "cells": [
  {
   "cell_type": "markdown",
   "metadata": {},
   "source": [
    "# Sample Reference GOES NC File read with Python Xarray Engine"
   ]
  },
  {
   "cell_type": "code",
   "execution_count": 1,
   "metadata": {},
   "outputs": [],
   "source": [
    "import json\n",
    "import boto3\n",
    "import boto\n",
    "import fsspec\n",
    "import fsspec.utils\n",
    "import numpy as np\n",
    "import xarray as xr\n",
    "import zarr\n",
    "import os\n",
    "import ujson\n",
    "import s3fs\n",
    "import numcodecs\n",
    "\n",
    "import kerchunk.combine\n",
    "from kerchunk.zarr import single_zarr\n",
    "from kerchunk.combine import MultiZarrToZarr\n",
    "from kerchunk.hdf import SingleHdf5ToZarr\n",
    "from pathlib import Path"
   ]
  },
  {
   "cell_type": "code",
   "execution_count": null,
   "metadata": {},
   "outputs": [],
   "source": [
    "# load meta data into python dict\n",
    "json_path = \"/Users/katrinasharonin/Downloads/kerchunkC/jsons/2023-006.json\"\n",
    "f = open(json_path)\n",
    "meta = json.load(f)\n",
    "\n",
    "print('metadata display')\n",
    "print(meta.keys())\n",
    "\n",
    "from itertools import islice\n",
    "\n",
    "def take(n, iterable):\n",
    "    \"\"\"Return the first n items of the iterable as a list.\"\"\"\n",
    "    return list(islice(iterable, n))\n",
    "\n",
    "n_items = take(10, meta['refs'].items())\n",
    "print('sample dict values')\n",
    "print(n_items[0])\n",
    "print(n_items[1])\n",
    "print(n_items[2])\n",
    "print(n_items[3])\n",
    "print(n_items[4])\n",
    "print(n_items[5])\n",
    "\n",
    "print(meta['refs']['air_pressure_at_mean_sea_level/.zarray'])"
   ]
  },
  {
   "cell_type": "markdown",
   "metadata": {},
   "source": [
    "Unfinished; work on local read configuration"
   ]
  },
  {
   "cell_type": "markdown",
   "metadata": {},
   "source": []
  }
 ],
 "metadata": {
  "kernelspec": {
   "display_name": "kerchunkc",
   "language": "python",
   "name": "python3"
  },
  "language_info": {
   "codemirror_mode": {
    "name": "ipython",
    "version": 3
   },
   "file_extension": ".py",
   "mimetype": "text/x-python",
   "name": "python",
   "nbconvert_exporter": "python",
   "pygments_lexer": "ipython3",
   "version": "3.8.18"
  }
 },
 "nbformat": 4,
 "nbformat_minor": 2
}

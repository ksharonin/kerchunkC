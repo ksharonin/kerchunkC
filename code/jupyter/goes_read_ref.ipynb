{
 "cells": [
  {
   "cell_type": "markdown",
   "metadata": {},
   "source": [
    "# Sample Reference GOES NC File read with Python Xarray Engine"
   ]
  },
  {
   "cell_type": "code",
   "execution_count": 1,
   "metadata": {},
   "outputs": [],
   "source": [
    "import json\n",
    "import boto3\n",
    "import boto\n",
    "import fsspec\n",
    "import fsspec.utils\n",
    "import numpy as np\n",
    "import xarray as xr\n",
    "import zarr\n",
    "import os\n",
    "import ujson\n",
    "import s3fs\n",
    "import numcodecs\n",
    "\n",
    "import kerchunk.combine\n",
    "from kerchunk.zarr import single_zarr\n",
    "from kerchunk.combine import MultiZarrToZarr\n",
    "from kerchunk.hdf import SingleHdf5ToZarr\n",
    "from pathlib import Path"
   ]
  },
  {
   "cell_type": "code",
   "execution_count": null,
   "metadata": {},
   "outputs": [],
   "source": [
    "s3 = boto3.client('s3')\n",
    "s3_url = ''\n",
    "byte_range = 'bytes=0-64'\n",
    "\n",
    "s3_parts = s3_url.split(\"/\")\n",
    "bucket_name = s3_parts[2]\n",
    "object_key = \"/\".join(s3_parts[3:])\n",
    "\n",
    "response = s3.get_object(Bucket=bucket_name, Key=object_key, Range=byte_range)\n",
    "\n",
    "# Read and print the content of the specified byte range\n",
    "content = response['Body'].read()\n",
    "\n",
    "print(content[:40])\n",
    "binary_string = \"{:08b}\".format(int(content.hex(),16))\n",
    "print(binary_string[:40])"
   ]
  },
  {
   "cell_type": "markdown",
   "metadata": {},
   "source": [
    "Unfinished; work on local read configuration"
   ]
  },
  {
   "cell_type": "markdown",
   "metadata": {},
   "source": []
  }
 ],
 "metadata": {
  "kernelspec": {
   "display_name": "kerchunkc",
   "language": "python",
   "name": "python3"
  },
  "language_info": {
   "codemirror_mode": {
    "name": "ipython",
    "version": 3
   },
   "file_extension": ".py",
   "mimetype": "text/x-python",
   "name": "python",
   "nbconvert_exporter": "python",
   "pygments_lexer": "ipython3",
   "version": "3.8.18"
  }
 },
 "nbformat": 4,
 "nbformat_minor": 2
}

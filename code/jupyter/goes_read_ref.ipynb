{
 "cells": [
  {
   "cell_type": "markdown",
   "metadata": {},
   "source": [
    "# Sample Reference GOES NC File read with Python Xarray Engine"
   ]
  },
  {
   "cell_type": "code",
   "execution_count": 1,
   "metadata": {},
   "outputs": [],
   "source": [
    "import json\n",
    "import boto3\n",
    "import boto\n",
    "import fsspec\n",
    "import fsspec.utils\n",
    "import numpy as np\n",
    "import xarray as xr\n",
    "import zarr\n",
    "import os\n",
    "import ujson\n",
    "import s3fs\n",
    "import numcodecs\n",
    "\n",
    "import kerchunk.combine\n",
    "from kerchunk.zarr import single_zarr\n",
    "from kerchunk.combine import MultiZarrToZarr\n",
    "from kerchunk.hdf import SingleHdf5ToZarr\n",
    "from pathlib import Path"
   ]
  },
  {
   "cell_type": "code",
   "execution_count": 3,
   "metadata": {},
   "outputs": [
    {
     "name": "stdout",
     "output_type": "stream",
     "text": [
      "metadata display\n",
      "dict_keys(['version', 'refs'])\n",
      "sample dict values\n",
      "('.zgroup', '{\"zarr_format\":2}')\n",
      "('bandn/.zarray', '{\\n    \"chunks\": [\\n        1\\n    ],\\n    \"compressor\": null,\\n    \"dtype\": \"<i4\",\\n    \"fill_value\": null,\\n    \"filters\": null,\\n    \"order\": \"C\",\\n    \"shape\": [\\n        1\\n    ],\\n    \"zarr_format\": 2\\n}')\n",
      "('bandn/0', '\\x01\\x00\\x00\\x00')\n",
      "('bandn/.zattrs', '{\\n    \"_ARRAY_DIMENSIONS\": [\\n        \"bandn\"\\n    ]\\n}')\n",
      "('.zattrs', '{\"Conventions\":\"CF-1.7\",\"LUT_Filenames\":\"SpaceLookParams(FM2A_CDRL79RevP_PR_09_08_04)-724222106.0.h5 QTableBand01(FM2A_CDRL79RevM_DO_08_00_00)-601637632.0.h5 CalTargetTimeIntervals(FM2A_CDRL79RevP_DO_09_01_00)-611906700.0.h5 BandSaturationLimits(FM2A_CDRL79RevC_DO_07_00_00)-524728502.0.h5 SolarSpaceLookParams(FM2A_CDRL79RevN_DO_09_00_00)-600765435.0.h5 DeadRowListParams(FM2A_CDRL79RevC_DO_07_00_00)-524728502.0.h5 Mirror_Record(FM2A_CDRL79RevC_DO_08_00_00)-604635792.0.h5 KalmanAstroConsts(FM2A_CDRL79RevC_DO_07_00_00)-582860861.0.xml KalmanFilterControls(FM2A_PR_09_08_02)-724222106.0.xml KalmanMeasMaxSensibles(FMAA_INT_ONLY_DO_09_01_00)-631775400.0.xml KalmanPreprocessorControls(FM2A_CDRL79RevC_PR_09_06_02)-724222106.0.xml KalmanReferenceData(FM2A_CDRL79RevC_DO_07_00_00)-582860861.0.xml KalmanStarCatalogs(FM2A_CDRL79RevC_DO_07_00_00)-582860861.0.xml ABI_NavigationRDP_Band01(FM2A_CDRL79RevK_DO_08_00_00)-601637632.0.xml ABI_NavigationParameters_Band01(FM2A_CDRL79RevC_DO_07_00_00)-582860861.0.xml ABI_ResamplingImplementation_Band01(FM2A_CDRL79RevC_DO_07_02_00)-602129336.0.xml ABI_ResamplingParameters_Band01(FM2A_CDRL79RevC_DO_07_00_00)-582860861.0.xml StarLookParams(FM2A_CDRL79RevC_DO_07_00_00)-524728502.0.h5 StarDetectionParams(FM2A_CDRL79RevC_DO_08_00_00)-594879577.0.xml ResamplingScaledConversion(FMAA_INT_ONLY_DO_08_00_00)-1111.0.xml BlockReleaseRegions(FMAA_INT_ONLY_DO_08_00_00)-2222.0.csv VNIR_RetrievalParameters(FM2A_CDRL79RevC_DO_07_00_00)-524728502.0.h5 SCT_Record(FM2A_CDRL79RevM_DO_09_00_00)-600765435.0.h5 ICM_ConversionConsts(FM2A_CDRL43-18_DO_09_01_00)-600765500.0.h5 ICM_SensorCoefficients(FM2A_TMABI_18_159_TMABI_18_533_DO_09_05_00)-675159126.0.h5\",\"Metadata_Conventions\":\"Unidata Dataset Discovery v1.0\",\"cdm_data_type\":\"Image\",\"dataset_name\":\"OR_ABI-L1b-RadF-M6C01_G17_s20230060500309_e20230060509376_c20230060509434.nc\",\"date_created\":\"2023-01-06T05:09:43.4Z\",\"id\":\"773fc191-5d9e-4ddd-870c-2c89e1cc8413\",\"institution\":\"DOC\\\\/NOAA\\\\/NESDIS > U.S. Department of Commerce, National Oceanic and Atmospheric Administration, National Environmental Satellite, Data, and Information Services\",\"instrument_ID\":\"FM2\",\"instrument_type\":\"GOES-R Series Advanced Baseline Imager (ABI)\",\"iso_series_metadata_id\":\"a70be540-c38b-11e0-962b-0800200c9a66\",\"keywords\":\"SPECTRAL\\\\/ENGINEERING > VISIBLE WAVELENGTHS > VISIBLE RADIANCE\",\"keywords_vocabulary\":\"NASA Global Change Master Directory (GCMD) Earth Science Keywords, Version 7.0.0.0.0\",\"license\":\"Unclassified data.  Access is restricted to approved users only.\",\"naming_authority\":\"gov.nesdis.noaa\",\"orbital_slot\":\"GOES-West\",\"platform_ID\":\"G17\",\"processing_level\":\"National Aeronautics and Space Administration (NASA) L1b\",\"production_data_source\":\"Realtime\",\"production_environment\":\"OE\",\"production_site\":\"WCDAS\",\"project\":\"GOES\",\"scene_id\":\"Full Disk\",\"spatial_resolution\":\"1km at nadir\",\"standard_name_vocabulary\":\"CF Standard Name Table (v35, 20 July 2016)\",\"summary\":\"Single reflective band ABI L1b Radiance Products are digital maps of outgoing radiance values at the top of the atmosphere for visible and near-IR bands.\",\"time_coverage_end\":\"2023-01-06T05:09:37.6Z\",\"time_coverage_start\":\"2023-01-06T05:00:30.9Z\",\"timeline_id\":\"ABI Mode 6\",\"title\":\"ABI L1b Radiances\"}')\n",
      "('time/.zarray', '{\\n    \"chunks\": [\\n        6\\n    ],\\n    \"compressor\": null,\\n    \"dtype\": \"<M8[us]\",\\n    \"fill_value\": 0,\\n    \"filters\": null,\\n    \"order\": \"C\",\\n    \"shape\": [\\n        6\\n    ],\\n    \"zarr_format\": 2\\n}')\n"
     ]
    }
   ],
   "source": [
    "# load meta data into python dict\n",
    "json_path = \"/Users/katrinasharonin/Downloads/kerchunkC/jsons/2023-006.json\"\n",
    "f = open(json_path)\n",
    "meta = json.load(f)\n",
    "\n",
    "print('metadata display')\n",
    "print(meta.keys())\n",
    "\n",
    "from itertools import islice\n",
    "\n",
    "def take(n, iterable):\n",
    "    \"\"\"Return the first n items of the iterable as a list.\"\"\"\n",
    "    return list(islice(iterable, n))\n",
    "\n",
    "n_items = take(10, meta['refs'].items())\n",
    "print('sample dict values')\n",
    "print(n_items[0])\n",
    "print(n_items[1])\n",
    "print(n_items[2])\n",
    "print(n_items[3])\n",
    "print(n_items[4])\n",
    "print(n_items[5])"
   ]
  },
  {
   "cell_type": "code",
   "execution_count": 14,
   "metadata": {},
   "outputs": [
    {
     "name": "stdout",
     "output_type": "stream",
     "text": [
      "<xarray.DataArray 'Rad' (bandn: 1, time: 1, y: 226, x: 226)>\n",
      "[51076 values with dtype=float32]\n",
      "Coordinates:\n",
      "  * bandn    (bandn) int32 1\n",
      "    t        (bandn, time) datetime64[ns] ...\n",
      "  * time     (time) datetime64[us] 2023-01-06T05:00:00\n",
      "  * x        (x) float64 -0.1519 -0.1518 -0.1518 ... -0.1456 -0.1456 -0.1456\n",
      "    x_image  (bandn, time) float32 ...\n",
      "  * y        (y) float64 0.04428 0.04425 0.04423 ... 0.03804 0.03801 0.03798\n",
      "    y_image  (bandn, time) float32 ...\n",
      "Attributes:\n",
      "    ancillary_variables:    DQF\n",
      "    cell_methods:           t: point area: point\n",
      "    grid_mapping:           goes_imager_projection\n",
      "    long_name:              ABI L1b Radiances\n",
      "    resolution:             y: 0.000028 rad x: 0.000028 rad\n",
      "    sensor_band_bit_depth:  10\n",
      "    standard_name:          toa_outgoing_radiance_per_unit_wavelength\n",
      "    units:                  W m-2 sr-1 um-1\n",
      "    valid_range:            [0, 1022]\n",
      "[[[[      nan       nan       nan ...       nan       nan       nan]\n",
      "   [      nan       nan       nan ...       nan       nan       nan]\n",
      "   [      nan       nan       nan ...       nan       nan       nan]\n",
      "   ...\n",
      "   [      nan       nan       nan ... 214.44684 212.82263 218.50737]\n",
      "   [      nan       nan       nan ... 210.3863  210.3863  221.7558 ]\n",
      "   [      nan       nan       nan ... 209.5742  211.19841 220.9437 ]]]]\n",
      "[263.17322 262.3611  261.549   ... 209.5742  211.19841 220.9437 ]\n"
     ]
    }
   ],
   "source": [
    "ds = xr.open_dataset(\"reference://\", engine=\"zarr\", backend_kwargs={\n",
    "                    \"consolidated\": False,\n",
    "                    \"storage_options\": {\"fo\": json_path}\n",
    "                    })\n",
    "\n",
    "# print(ds.isel(band=slice(0,1),time=slice(0,1),x=slice(0,226),y=slice(0,226))[\"Rad\"].values)\n",
    "# aim for 17th index for vals\n",
    "print(ds.isel(band=slice(0, 1), time=slice(0, 1), x=slice(0, 226), y=slice(3842, 4068))[\"Rad\"])\n",
    "\n",
    "# subset = ds.isel(band=slice(0, 1), time=slice(0, 1), x=slice(0, 226), y=slice(0, 226))[\"Rad\"]\n",
    "subset = ds.isel(band=slice(0, 1), time=slice(0, 1), x=slice(0, 226), y=slice(3842, 4068))[\"Rad\"]\n",
    "\n",
    "# Retrieve the values as a NumPy array\n",
    "values = subset.values\n",
    "\n",
    "print(values)\n",
    "\n",
    "# Filter and print non-NaN values\n",
    "non_nan_values = values[~np.isnan(values)]\n",
    "print(non_nan_values)"
   ]
  },
  {
   "cell_type": "markdown",
   "metadata": {},
   "source": [
    "Unfinished; work on local read configuration"
   ]
  },
  {
   "cell_type": "markdown",
   "metadata": {},
   "source": []
  }
 ],
 "metadata": {
  "kernelspec": {
   "display_name": "kerchunkc",
   "language": "python",
   "name": "python3"
  },
  "language_info": {
   "codemirror_mode": {
    "name": "ipython",
    "version": 3
   },
   "file_extension": ".py",
   "mimetype": "text/x-python",
   "name": "python",
   "nbconvert_exporter": "python",
   "pygments_lexer": "ipython3",
   "version": "3.8.18"
  }
 },
 "nbformat": 4,
 "nbformat_minor": 2
}

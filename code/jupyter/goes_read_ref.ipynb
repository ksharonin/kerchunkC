{
 "cells": [
  {
   "cell_type": "markdown",
   "metadata": {},
   "source": [
    "# Sample Reference GOES NC File read with Python Xarray Engine"
   ]
  },
  {
   "cell_type": "code",
   "execution_count": 1,
   "metadata": {},
   "outputs": [],
   "source": [
    "import zlib\n",
    "import json\n",
    "import boto3\n",
    "import boto\n",
    "import fsspec\n",
    "import fsspec.utils\n",
    "import numpy as np\n",
    "import xarray as xr\n",
    "import zarr\n",
    "import os\n",
    "import ujson\n",
    "import s3fs\n",
    "import numcodecs\n",
    "import h5py\n",
    "\n",
    "import kerchunk.combine\n",
    "from kerchunk.zarr import single_zarr\n",
    "from kerchunk.combine import MultiZarrToZarr\n",
    "from kerchunk.hdf import SingleHdf5ToZarr\n",
    "from pathlib import Path"
   ]
  },
  {
   "cell_type": "code",
   "execution_count": 2,
   "metadata": {},
   "outputs": [
    {
     "name": "stdout",
     "output_type": "stream",
     "text": [
      "metadata display\n",
      "dict_keys(['version', 'refs'])\n",
      "sample dict values\n",
      "('.zgroup', '{\"zarr_format\":2}')\n",
      "('bandn/.zarray', '{\\n    \"chunks\": [\\n        1\\n    ],\\n    \"compressor\": null,\\n    \"dtype\": \"<i4\",\\n    \"fill_value\": null,\\n    \"filters\": null,\\n    \"order\": \"C\",\\n    \"shape\": [\\n        1\\n    ],\\n    \"zarr_format\": 2\\n}')\n",
      "('bandn/0', '\\x01\\x00\\x00\\x00')\n",
      "('bandn/.zattrs', '{\\n    \"_ARRAY_DIMENSIONS\": [\\n        \"bandn\"\\n    ]\\n}')\n",
      "('.zattrs', '{\"Conventions\":\"CF-1.7\",\"LUT_Filenames\":\"SpaceLookParams(FM2A_CDRL79RevP_PR_09_08_04)-724222106.0.h5 QTableBand01(FM2A_CDRL79RevM_DO_08_00_00)-601637632.0.h5 CalTargetTimeIntervals(FM2A_CDRL79RevP_DO_09_01_00)-611906700.0.h5 BandSaturationLimits(FM2A_CDRL79RevC_DO_07_00_00)-524728502.0.h5 SolarSpaceLookParams(FM2A_CDRL79RevN_DO_09_00_00)-600765435.0.h5 DeadRowListParams(FM2A_CDRL79RevC_DO_07_00_00)-524728502.0.h5 Mirror_Record(FM2A_CDRL79RevC_DO_08_00_00)-604635792.0.h5 KalmanAstroConsts(FM2A_CDRL79RevC_DO_07_00_00)-582860861.0.xml KalmanFilterControls(FM2A_PR_09_08_02)-724222106.0.xml KalmanMeasMaxSensibles(FMAA_INT_ONLY_DO_09_01_00)-631775400.0.xml KalmanPreprocessorControls(FM2A_CDRL79RevC_PR_09_06_02)-724222106.0.xml KalmanReferenceData(FM2A_CDRL79RevC_DO_07_00_00)-582860861.0.xml KalmanStarCatalogs(FM2A_CDRL79RevC_DO_07_00_00)-582860861.0.xml ABI_NavigationRDP_Band01(FM2A_CDRL79RevK_DO_08_00_00)-601637632.0.xml ABI_NavigationParameters_Band01(FM2A_CDRL79RevC_DO_07_00_00)-582860861.0.xml ABI_ResamplingImplementation_Band01(FM2A_CDRL79RevC_DO_07_02_00)-602129336.0.xml ABI_ResamplingParameters_Band01(FM2A_CDRL79RevC_DO_07_00_00)-582860861.0.xml StarLookParams(FM2A_CDRL79RevC_DO_07_00_00)-524728502.0.h5 StarDetectionParams(FM2A_CDRL79RevC_DO_08_00_00)-594879577.0.xml ResamplingScaledConversion(FMAA_INT_ONLY_DO_08_00_00)-1111.0.xml BlockReleaseRegions(FMAA_INT_ONLY_DO_08_00_00)-2222.0.csv VNIR_RetrievalParameters(FM2A_CDRL79RevC_DO_07_00_00)-524728502.0.h5 SCT_Record(FM2A_CDRL79RevM_DO_09_00_00)-600765435.0.h5 ICM_ConversionConsts(FM2A_CDRL43-18_DO_09_01_00)-600765500.0.h5 ICM_SensorCoefficients(FM2A_TMABI_18_159_TMABI_18_533_DO_09_05_00)-675159126.0.h5\",\"Metadata_Conventions\":\"Unidata Dataset Discovery v1.0\",\"cdm_data_type\":\"Image\",\"dataset_name\":\"OR_ABI-L1b-RadF-M6C01_G17_s20230060500309_e20230060509376_c20230060509434.nc\",\"date_created\":\"2023-01-06T05:09:43.4Z\",\"id\":\"773fc191-5d9e-4ddd-870c-2c89e1cc8413\",\"institution\":\"DOC\\\\/NOAA\\\\/NESDIS > U.S. Department of Commerce, National Oceanic and Atmospheric Administration, National Environmental Satellite, Data, and Information Services\",\"instrument_ID\":\"FM2\",\"instrument_type\":\"GOES-R Series Advanced Baseline Imager (ABI)\",\"iso_series_metadata_id\":\"a70be540-c38b-11e0-962b-0800200c9a66\",\"keywords\":\"SPECTRAL\\\\/ENGINEERING > VISIBLE WAVELENGTHS > VISIBLE RADIANCE\",\"keywords_vocabulary\":\"NASA Global Change Master Directory (GCMD) Earth Science Keywords, Version 7.0.0.0.0\",\"license\":\"Unclassified data.  Access is restricted to approved users only.\",\"naming_authority\":\"gov.nesdis.noaa\",\"orbital_slot\":\"GOES-West\",\"platform_ID\":\"G17\",\"processing_level\":\"National Aeronautics and Space Administration (NASA) L1b\",\"production_data_source\":\"Realtime\",\"production_environment\":\"OE\",\"production_site\":\"WCDAS\",\"project\":\"GOES\",\"scene_id\":\"Full Disk\",\"spatial_resolution\":\"1km at nadir\",\"standard_name_vocabulary\":\"CF Standard Name Table (v35, 20 July 2016)\",\"summary\":\"Single reflective band ABI L1b Radiance Products are digital maps of outgoing radiance values at the top of the atmosphere for visible and near-IR bands.\",\"time_coverage_end\":\"2023-01-06T05:09:37.6Z\",\"time_coverage_start\":\"2023-01-06T05:00:30.9Z\",\"timeline_id\":\"ABI Mode 6\",\"title\":\"ABI L1b Radiances\"}')\n",
      "('time/.zarray', '{\\n    \"chunks\": [\\n        6\\n    ],\\n    \"compressor\": null,\\n    \"dtype\": \"<M8[us]\",\\n    \"fill_value\": 0,\\n    \"filters\": null,\\n    \"order\": \"C\",\\n    \"shape\": [\\n        6\\n    ],\\n    \"zarr_format\": 2\\n}')\n"
     ]
    }
   ],
   "source": [
    "# load meta data into python dict\n",
    "json_path = \"/Users/katrinasharonin/Downloads/kerchunkC/jsons/2023-006.json\"\n",
    "f = open(json_path)\n",
    "meta = json.load(f)\n",
    "\n",
    "print('metadata display')\n",
    "print(meta.keys())\n",
    "\n",
    "from itertools import islice\n",
    "\n",
    "def take(n, iterable):\n",
    "    \"\"\"Return the first n items of the iterable as a list.\"\"\"\n",
    "    return list(islice(iterable, n))\n",
    "\n",
    "n_items = take(10, meta['refs'].items())\n",
    "print('sample dict values')\n",
    "print(n_items[0])\n",
    "print(n_items[1])\n",
    "print(n_items[2])\n",
    "print(n_items[3])\n",
    "print(n_items[4])\n",
    "print(n_items[5])"
   ]
  },
  {
   "cell_type": "markdown",
   "metadata": {},
   "source": [
    "### xarray engine demo; proper expected output"
   ]
  },
  {
   "cell_type": "code",
   "execution_count": 3,
   "metadata": {},
   "outputs": [
    {
     "name": "stdout",
     "output_type": "stream",
     "text": [
      "<xarray.DataArray 'Rad' (bandn: 1, time: 1, y: 226, x: 226)>\n",
      "[51076 values with dtype=int16]\n",
      "Coordinates:\n",
      "  * bandn    (bandn) int32 1\n",
      "    t        (bandn, time) datetime64[ns] ...\n",
      "  * time     (time) datetime64[us] 2023-01-06T05:00:00\n",
      "  * x        (x) int16 3842 3843 3844 3845 3846 ... 4063 4064 4065 4066 4067\n",
      "    x_image  (bandn, time) float32 ...\n",
      "  * y        (y) int16 0 1 2 3 4 5 6 7 8 ... 217 218 219 220 221 222 223 224 225\n",
      "    y_image  (bandn, time) float32 ...\n",
      "Attributes: (12/13)\n",
      "    _Unsigned:              true\n",
      "    add_offset:             -25.936647415161133\n",
      "    ancillary_variables:    DQF\n",
      "    cell_methods:           t: point area: point\n",
      "    grid_mapping:           goes_imager_projection\n",
      "    long_name:              ABI L1b Radiances\n",
      "    ...                     ...\n",
      "    scale_factor:           0.8121063709259033\n",
      "    sensor_band_bit_depth:  10\n",
      "    standard_name:          toa_outgoing_radiance_per_unit_wavelength\n",
      "    units:                  W m-2 sr-1 um-1\n",
      "    valid_range:            [0, 1022]\n",
      "    _FillValue:             1023\n",
      "[1023 1023 1023 1023 1023 1023 1023 1023 1023 1023 1023 1023 1023 1023\n",
      " 1023 1023 1023 1023 1023 1023 1023 1023 1023 1023 1023 1023 1023 1023\n",
      " 1023 1023 1023 1023 1023 1023 1023 1023 1023 1023 1023 1023 1023 1023\n",
      " 1023 1023 1023 1023 1023 1023 1023 1023 1023 1023 1023 1023 1023 1023\n",
      " 1023 1023 1023 1023 1023 1023 1023 1023 1023 1023 1023 1023 1023 1023\n",
      " 1023 1023 1023 1023 1023 1023 1023 1023 1023 1023 1023 1023 1023 1023\n",
      " 1023 1023 1023 1023 1023 1023 1023   32   32   32   32   32   32   32\n",
      "   32   32   32   32   32   32   32   32   32   32   32   32   32   32\n",
      "   32   32   32   32   32   32   32   32   32   32   32   32   32   32\n",
      "   32   32   32   32   32   32   32   32   32   32   32   32   32   32\n",
      "   32   32   32   32   32   32   32   32   32   32   32   32   32   32\n",
      "   32   32   32   32   32   32   32   32   32   32   32   32   32   32\n",
      "   32   32   32   32   32   32   32   32   32   32   32   32   32   32\n",
      "   32   32   32   32   32   32   32   32   32   32   32   32   32   32\n",
      "   32   32   32   32   32   32   32   32   32   32   32   32   32   32\n",
      "   32   32   32   32   32   32   32   31   32   32   32   32   32   32\n",
      "   32   32]\n"
     ]
    }
   ],
   "source": [
    "ds = xr.open_dataset(\"reference://\",mask_and_scale=True, engine=\"zarr\", backend_kwargs={\n",
    "                    \"consolidated\": False,\n",
    "                    \"storage_options\": {\"fo\": json_path}\n",
    "                    })\n",
    "\n",
    "\n",
    "# aim for 17th index for vals\n",
    "# subset = ds.isel(band=slice(0, 1), time=slice(0, 1), x=slice(0, 226), y=slice(3842, 4068))[\"Rad\"]\n",
    "subset = ds.isel(band=slice(0, 1), time=slice(0, 1), x=slice(3842, 4068), y=slice(0, 226))[\"Rad\"]\n",
    "print(subset)\n",
    "\n",
    "# Retrieve the values as a NumPy array\n",
    "values = subset.values\n",
    "\n",
    "# print(values)\n",
    "# [226][3842:4068]\n",
    "print(values[0][0][225])\n",
    "\n",
    "# Filter and print non-NaN values\n",
    "# non_nan_values = values[~np.isnan(values)]\n",
    "# print(non_nan_values)"
   ]
  },
  {
   "cell_type": "markdown",
   "metadata": {},
   "source": [
    "### Break down steps given inconsistencies with translation"
   ]
  },
  {
   "cell_type": "code",
   "execution_count": 5,
   "metadata": {},
   "outputs": [],
   "source": [
    "def bytes_to_binary(data):\n",
    "    binary_string = ' '.join(format(byte, '08b') for byte in data)\n",
    "    return binary_string"
   ]
  },
  {
   "cell_type": "code",
   "execution_count": 6,
   "metadata": {},
   "outputs": [
    {
     "name": "stdout",
     "output_type": "stream",
     "text": [
      "\n",
      "\n",
      "fetched sample bytes from nc\n",
      "b'x\\x01\\xed\\xdaYn\\xc20\\x10\\x00P\\xa4\\x1e\\xa4\\xf4\\xfe\\x87\\xa4E\\x15\\x15u\\x13\\xb7Yl\\xcf\\xb8O|\\x80\\x93x\\x967D\\x80\\xc4\\xed\\xe5\\xe6A\\x80\\x00\\x01\\x02\\x04\\x08\\x10 '\n",
      "01111000 00000001 11101101 11011010 01011001 01101110 11000010 00110000 00010000 00000000 01010000 10100100 00011110 10100100 11110100 11111110 10000111 10100100 01000101 00010101 00010101 01110101 00010011 10110111 01011001 01101100 11001111 10111000 01001111 01111100 10000000 10010011 01111000 10010110 00110111 01000100 10000000 11000100 11101101 11100101\n",
      "\n",
      "\n",
      "after decompressing:\n",
      "11111111 00000011 11111111 00000011 11111111 00000011 11111111 00000011 11111111 00000011 \n",
      "\n",
      "chunk 1 using 0.0.0.17 indexing\n",
      "[32 32 32 32 32 32 32 32 32 32 32 32 32 32 32 32 32 31 32 32 32 32 32 32\n",
      " 32 32]\n",
      "\n",
      "\n",
      "applied offset and scale\n",
      "51076\n",
      "[0.05075647200000333, 0.05075647200000333, 0.05075647200000333, 0.05075647200000333, 0.05075647200000333, 0.05075647200000333, 0.05075647200000333, 0.05075647200000333, 0.05075647200000333, 0.05075647200000333, 0.05075647200000333, 0.05075647200000333, 0.05075647200000333, 0.05075647200000333, 0.05075647200000333, 0.05075647200000333, 0.05075647200000333, -0.7613498989999954, 0.05075647200000333, 0.05075647200000333, 0.05075647200000333, 0.05075647200000333, 0.05075647200000333, 0.05075647200000333, 0.05075647200000333, 0.05075647200000333]\n"
     ]
    }
   ],
   "source": [
    "# taken directly from Rad metadata\n",
    "# \"{\\\"chunks\\\":[1,1,226,226],\\\"compressor\\\":null,\n",
    "# \\\"dtype\\\":\\\"<i2\\\",\\\"fill_value\\\":1023,\\\"filters\\\":\n",
    "# [{\\\"id\\\":\\\"zlib\\\",\\\"level\\\":1}],\\\"order\\\":\\\"C\\\",\\\n",
    "#   \"shape\\\":[1,6,10848,10848],\\\"zarr_format\\\":2}\"\n",
    "\n",
    "# for index of 0.0.0.17:\n",
    "\n",
    "start_byte = 25830\n",
    "num_bytes = 806\n",
    "dtype_extract = '<i2'\n",
    "file_path =  \"/Users/katrinasharonin/Downloads/GOES_17_recreation/GOES_17_Sample_Data/2023/006/05/OR_ABI-L1b-RadF-M6C01_G17_s20230060550309_e20230060559376_c20230060559423.nc\"\n",
    "add_offset = -25.9366474\n",
    "scale_factor = 0.812106371\n",
    "\n",
    "# local file read extract \n",
    "with open(file_path, 'rb') as file:\n",
    "    file.seek(start_byte)\n",
    "    content = file.read(num_bytes)\n",
    "\n",
    "print('\\n')\n",
    "print('fetched sample bytes from nc')\n",
    "print(content[:50])\n",
    "binary_representation = bytes_to_binary(content[:40])\n",
    "print(binary_representation)\n",
    "\n",
    "buf = zlib.decompress(content)\n",
    "\n",
    "print('\\n')\n",
    "print('after decompressing:')\n",
    "for value in buf[:10]:\n",
    "    print(bin(value)[2:].zfill(8) + \" \", end = '')\n",
    "\n",
    "# EXCLUDE SHUFFLE\n",
    "# buf = numcodecs.shuffle.Shuffle(4).decode(buf)\n",
    "\n",
    "# print('\\n')\n",
    "# print('after shuffle:')\n",
    "# for value in buf[:20]:\n",
    "#     print(bin(value)[2:].zfill(8) + \" \", end = '')\n",
    "\n",
    "# numpy dtype application\n",
    "chunk = np.frombuffer(buf, dtype=dtype_extract)\n",
    "\n",
    "# apply offset and scaling on data\n",
    "chunk_scale_off = [x * scale_factor + add_offset for x in chunk]\n",
    "# chunk_scale_off = [ (x-add_offset)*scale_factor for x in chunk]\n",
    "\n",
    "print('\\n')\n",
    "print('chunk 1 using 0.0.0.17 indexing')\n",
    "print(chunk[51050:])\n",
    "\n",
    "print('\\n')\n",
    "print('applied offset and scale')\n",
    "print(len(chunk_scale_off))\n",
    "print(chunk_scale_off[51050:])"
   ]
  },
  {
   "cell_type": "markdown",
   "metadata": {},
   "source": [
    "### idea: possible offset/scaling of vars throws off values\n",
    "\n",
    "check to see if values even exist in the known arr"
   ]
  },
  {
   "cell_type": "code",
   "execution_count": 7,
   "metadata": {},
   "outputs": [
    {
     "ename": "NameError",
     "evalue": "name 'non_nan_values' is not defined",
     "output_type": "error",
     "traceback": [
      "\u001b[0;31m---------------------------------------------------------------------------\u001b[0m",
      "\u001b[0;31mNameError\u001b[0m                                 Traceback (most recent call last)",
      "\u001b[1;32m/Users/katrinasharonin/Downloads/kerchunkC/code/jupyter/goes_read_ref.ipynb Cell 10\u001b[0m line \u001b[0;36m3\n\u001b[1;32m      <a href='vscode-notebook-cell:/Users/katrinasharonin/Downloads/kerchunkC/code/jupyter/goes_read_ref.ipynb#X12sZmlsZQ%3D%3D?line=0'>1</a>\u001b[0m \u001b[39m# flatten and check existing vars \u001b[39;00m\n\u001b[1;32m      <a href='vscode-notebook-cell:/Users/katrinasharonin/Downloads/kerchunkC/code/jupyter/goes_read_ref.ipynb#X12sZmlsZQ%3D%3D?line=1'>2</a>\u001b[0m array1 \u001b[39m=\u001b[39m np\u001b[39m.\u001b[39marray(chunk_scale_off)\n\u001b[0;32m----> <a href='vscode-notebook-cell:/Users/katrinasharonin/Downloads/kerchunkC/code/jupyter/goes_read_ref.ipynb#X12sZmlsZQ%3D%3D?line=2'>3</a>\u001b[0m array2 \u001b[39m=\u001b[39m np\u001b[39m.\u001b[39marray(non_nan_values)\n\u001b[1;32m      <a href='vscode-notebook-cell:/Users/katrinasharonin/Downloads/kerchunkC/code/jupyter/goes_read_ref.ipynb#X12sZmlsZQ%3D%3D?line=3'>4</a>\u001b[0m common_elements \u001b[39m=\u001b[39m np\u001b[39m.\u001b[39mintersect1d(array1, array2)\n\u001b[1;32m      <a href='vscode-notebook-cell:/Users/katrinasharonin/Downloads/kerchunkC/code/jupyter/goes_read_ref.ipynb#X12sZmlsZQ%3D%3D?line=5'>6</a>\u001b[0m \u001b[39mprint\u001b[39m(common_elements)\n",
      "\u001b[0;31mNameError\u001b[0m: name 'non_nan_values' is not defined"
     ]
    }
   ],
   "source": [
    "# flatten and check existing vars \n",
    "array1 = np.array(chunk_scale_off)\n",
    "common_elements = np.intersect1d(array1, array2)\n",
    "\n",
    "print(common_elements)"
   ]
  },
  {
   "cell_type": "markdown",
   "metadata": {},
   "source": [
    "### try low level h5py read "
   ]
  },
  {
   "cell_type": "code",
   "execution_count": 14,
   "metadata": {},
   "outputs": [
    {
     "name": "stdout",
     "output_type": "stream",
     "text": [
      "<HDF5 file \"OR_ABI-L1b-RadF-M6C01_G17_s20230060550309_e20230060559376_c20230060559423.nc\" (mode r)>\n",
      "<HDF5 dataset \"Rad\": shape (10848, 10848), type \"<i2\">\n",
      "<Attributes of HDF5 object at 140271255064064>\n",
      "[1023 1023 1023 1023 1023 1023 1023 1023 1023 1023 1023 1023 1023 1023\n",
      " 1023 1023 1023 1023 1023 1023 1023 1023 1023 1023 1023 1023 1023 1023\n",
      " 1023 1023 1023 1023 1023 1023 1023 1023 1023 1023 1023 1023 1023 1023\n",
      " 1023 1023 1023 1023 1023 1023 1023 1023 1023 1023 1023 1023 1023 1023\n",
      " 1023 1023 1023 1023 1023 1023 1023 1023 1023 1023 1023 1023 1023 1023\n",
      " 1023 1023 1023 1023 1023 1023 1023 1023 1023 1023 1023 1023 1023 1023\n",
      " 1023 1023 1023   32   32   32   32   32   32   32   32   32   32   32\n",
      "   32   32   32   32   32   32   31   32   32   32   32   32   32   32\n",
      "   32   32   32   32   32   32   32   32   32   32   32   32   32   32\n",
      "   31   32   32   32   32   32   32   32   32   32   32   32   32   32\n",
      "   32   32   32   32   32   32   32   32   32   32   32   32   32   32\n",
      "   32   32   32   32   32   32   32   32   32   32   32   32   32   32\n",
      "   32   32   32   32   32   32   32   32   32   32   32   32   32   32\n",
      "   32   32   32   32   32   32   32   32   32   32   32   32   32   32\n",
      "   32   32   32   32   32   32   32   32   32   32   32   32   32   32\n",
      "   32   32   32   32   32   32   32   32   32   32   32   32   32   32\n",
      "   32   32   32   32   32   32   32   32   32   32   32   32   32   32\n",
      "   32   32   32   32   32   32   32   32   32   32   32   32   32   32\n",
      "   32   32   32   32   32   32   32   32   32   32   32   32   32   32\n",
      "   32   32   32   32   32   32   32   32   32   32   32   32   32   32\n",
      "   32   32   32   32   32   32   32   32   32   32   32   32   32   32\n",
      "   32   32   32   32   32   32   32   32   32   32   32   32   32   32\n",
      "   32   32   32   32   32   32   32   32   32   32   32   32   32   32\n",
      "   32   32   32   32   32   32   32   32   32   32   32   32   32   32\n",
      "   32   32   32   32   32   32   32   32   32   32   32   32   32   32\n",
      "   32   32   32   32   32   32   32   32   32   32   32   32   32   32\n",
      "   32   32   32   32   32   32   32   32   32   32   32   32   32   32\n",
      "   32   32   32   32   32   32   32   32   32   32   32   32   32   32\n",
      "   32   32   32   32   32   32   32   32   32   32   32   32   32   32\n",
      "   32   32   32   32   32   32   32   32   32   32   32   32   32   32\n",
      "   32   32   32   32   32   32   32   32   32   32   32   32   32   32\n",
      "   32   32   32   32   32   32   32   32   32   32   32   32   32   32\n",
      "   32   32   32   32   32   32   32   32   32   32   32   32   32   32\n",
      "   32   32   32   32   32   32   32   32   32   32   32   32   32   32\n",
      "   32   32   32   32   32   32   32   32   32   32   32   32   32   32\n",
      "   32   32   32   32   32   32   32   32   32   32   32   32   32   32\n",
      "   32   32   32   32   32   32   32   32   32   32   32   32   32   32\n",
      "   32   32   31   32   32   32   32   32   32   32   32   32   32   32\n",
      "   32   32   32   32   32   32   32   32   32   32   32   32   32   32\n",
      "   32   32   32   32   32   32   32   32   32   32   32   32   32   32\n",
      "   32   32   32   32   32   32   32   32   32   32   32   32   32   32\n",
      "   32   32   32   32   32   32   32   32   32   32   32   32   32   32\n",
      "   32   32   32   32   32   32   32   32   32   32   32   32   32   32\n",
      "   32   32   32   32   32   32   32   32   32   32   32   32   32   32\n",
      "   32   32   32   32   32   32   32   32   32   32   32   32   32   32\n",
      "   32   32   32   32   32   32   32   32   32   32   32   32   32   32\n",
      "   32   32   32   32   32   32   32   32   32   32   32   32   32   32]\n",
      "7006\n"
     ]
    }
   ],
   "source": [
    "with h5py.File(file_path, 'r') as file:\n",
    "    print(file)\n",
    "    print(file[\"Rad\"])\n",
    "    dataset = file[\"Rad\"]\n",
    "    # attributes\n",
    "    print(dataset.attrs)\n",
    "    # sample data dump\n",
    "    # print(dataset[226][3842:4068])\n",
    "    print(dataset[226][3842:4500])\n",
    "    print(len(dataset[226][3842:]))\n",
    "\n",
    "    # mimic s.isel(band=slice(0, 1), time=slice(0, 1), x=slice(0, 226), y=slice(3842, 4068))[\"Rad\"]\n"
   ]
  },
  {
   "cell_type": "markdown",
   "metadata": {},
   "source": [
    "Unfinished; work on local read configuration"
   ]
  },
  {
   "cell_type": "markdown",
   "metadata": {},
   "source": []
  }
 ],
 "metadata": {
  "kernelspec": {
   "display_name": "kerchunkc",
   "language": "python",
   "name": "python3"
  },
  "language_info": {
   "codemirror_mode": {
    "name": "ipython",
    "version": 3
   },
   "file_extension": ".py",
   "mimetype": "text/x-python",
   "name": "python",
   "nbconvert_exporter": "python",
   "pygments_lexer": "ipython3",
   "version": "3.8.18"
  }
 },
 "nbformat": 4,
 "nbformat_minor": 2
}

{
 "cells": [
  {
   "cell_type": "markdown",
   "metadata": {},
   "source": [
    "# Generate Ref Filesystem JSONs for Binary Parsing"
   ]
  },
  {
   "cell_type": "code",
   "execution_count": 6,
   "metadata": {},
   "outputs": [],
   "source": [
    "\"\"\"generate kerchunk ref files based on specifications of docs\n",
    "\n",
    "    goal:\n",
    "    {\n",
    "    \".zgroup\": \"{\\n    \\\"zarr_format\\\": 2\\n}\",\n",
    "    \".zattrs\": \"{\\n    \\\"Conventions\\\": \\\"UGRID-0.9.0\\n\\\"}\",\n",
    "    \"x/.zattrs\": \"{\\n    \\\"_ARRAY_DIMENSIONS\\\": [\\n        \\\"node\\\"\\n ...\",\n",
    "    \"x/.zarray\": \"{\\n    \\\"chunks\\\": [\\n        9228245\\n    ],\\n    \\\"compressor\\\": null,\\n    \\\"dtype\\\": \\\"<f8\\\",\\n  ...\",\n",
    "    \"x/0\": [\"s3://bucket/path/file.nc\", 294094376, 73825960]\n",
    "    }\n",
    "\n",
    "\"\"\"\n",
    "\n",
    "import fsspec\n",
    "import fsspec.utils\n",
    "import numpy as np\n",
    "# import dask.array as da\n",
    "# import pytest\n",
    "import xarray as xr\n",
    "import zarr\n",
    "import os\n",
    "import ujson\n",
    "import s3fs\n",
    "\n",
    "import kerchunk.combine\n",
    "from kerchunk.zarr import single_zarr\n",
    "from kerchunk.combine import MultiZarrToZarr\n",
    "from kerchunk.hdf import SingleHdf5ToZarr\n",
    "from pathlib import Path"
   ]
  },
  {
   "cell_type": "code",
   "execution_count": 8,
   "metadata": {},
   "outputs": [],
   "source": [
    "# each nc file needs a meta data for the zarr to read\n",
    "# see https://medium.com/pangeo/cloud-performant-netcdf4-hdf5-with-zarr-fsspec-and-intake-3d3a3e7cb935\n",
    "\n",
    "# use code to generate from local file\n",
    "fs = fsspec.filesystem('s3', anon=True) #S3 file system to manage ERA5 files\n",
    "flist = (fs.glob('s3://era5-pds/2020/*/data/air_pressure_at_mean_sea_level.nc')[:2])\n",
    "\n",
    "fs2 = fsspec.filesystem('')  #local file system to save final jsons to\n",
    "\n",
    "so = dict(mode='rb', anon=True, default_fill_cache=False, default_cache_type='first') # args to fs.open()\n",
    "# default_fill_cache=False avoids caching data in between file chunks to lowers memory usage.\n",
    "\n",
    "def gen_json(file_url):\n",
    "    with fs.open(file_url, **so) as infile:\n",
    "        h5chunks = SingleHdf5ToZarr(infile, file_url, inline_threshold=300)\n",
    "        # inline threshold adjusts the Size below which binary blocks are included directly in the output\n",
    "        # a higher inline threshold can result in a larger json file but faster loading time\n",
    "        variable = file_url.split('/')[-1].split('.')[0]\n",
    "        month = file_url.split('/')[2]\n",
    "        outf = f'{month}_{variable}.json' #file name to save json to\n",
    "        with fs2.open(outf, 'wb') as f:\n",
    "            f.write(ujson.dumps(h5chunks.translate()).encode());\n",
    "\n",
    "\n",
    "for file in flist:\n",
    "    gen_json(file)"
   ]
  },
  {
   "cell_type": "code",
   "execution_count": null,
   "metadata": {},
   "outputs": [],
   "source": [
    "# see generated JSONS!"
   ]
  }
 ],
 "metadata": {
  "kernelspec": {
   "display_name": "base",
   "language": "python",
   "name": "python3"
  },
  "language_info": {
   "codemirror_mode": {
    "name": "ipython",
    "version": 3
   },
   "file_extension": ".py",
   "mimetype": "text/x-python",
   "name": "python",
   "nbconvert_exporter": "python",
   "pygments_lexer": "ipython3",
   "version": "3.8.18"
  },
  "orig_nbformat": 4
 },
 "nbformat": 4,
 "nbformat_minor": 2
}

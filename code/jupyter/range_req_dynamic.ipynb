{
 "cells": [
  {
   "cell_type": "markdown",
   "metadata": {},
   "source": [
    "# s3 range-get requests w/ AWS SDK"
   ]
  },
  {
   "cell_type": "code",
   "execution_count": null,
   "metadata": {},
   "outputs": [],
   "source": [
    "\"\"\"\n",
    "Try to manually execute some S3 range-get requests \n",
    "using lower-level Python code (e.g., Python AWS SDK — \n",
    "I think this is the boto library) and decompress and \n",
    "decode them into numpy arrays using the information in the \n",
    "Kerchunk reference files (byte order, dimensionality, etc.). \n",
    "This will help you understand the steps youll eventually need to \n",
    "do in C++, and help you make sure what youre doing is actually possible \n",
    "(e.g., there arent weird web issues that arent your fault) in a \n",
    "friendlier interactive environment.\n",
    "\n",
    "\"\"\"\n",
    "\n"
   ]
  }
 ],
 "metadata": {
  "kernelspec": {
   "display_name": "base",
   "language": "python",
   "name": "python3"
  },
  "language_info": {
   "name": "python",
   "version": "3.8.18"
  },
  "orig_nbformat": 4
 },
 "nbformat": 4,
 "nbformat_minor": 2
}

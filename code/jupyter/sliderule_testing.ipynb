{
 "cells": [
  {
   "cell_type": "markdown",
   "metadata": {},
   "source": [
    "# Generic NB for Testing Values on Slicing"
   ]
  },
  {
   "cell_type": "markdown",
   "metadata": {},
   "source": [
    "### Generate metadata for inspection"
   ]
  },
  {
   "cell_type": "code",
   "execution_count": 1,
   "metadata": {},
   "outputs": [
    {
     "name": "stdout",
     "output_type": "stream",
     "text": [
      "Start JSON extraction from H5 file...\n",
      "JSON extraction complete\n"
     ]
    }
   ],
   "source": [
    "# gen ref for metadata inspection\n",
    "import kerchunk, fsspec, ujson\n",
    "from kerchunk import hdf\n",
    "\n",
    "def process(url, \n",
    "            outputfile, \n",
    "            storage_options_in={}, \n",
    "            storage_options_out={}):\n",
    "    \"\"\" generate h5 ref file using kerchunk known lib\n",
    "        https://github.com/fsspec/kerchunk/blob/37d75267cbf1c8d6ee1a9a69764cb661aa3f5e29/docs/source/advanced.rst#L30\n",
    "        class SingleHdf5ToZarr\n",
    "    \"\"\"\n",
    "    transformer = hdf.SingleHdf5ToZarr(url, **storage_options_in)\n",
    "    refs = transformer.translate()\n",
    "    with fsspec.open(outputfile, mode=\"wt\", **storage_options_out) as f:\n",
    "        ujson.dump(refs, f)\n",
    "\n",
    "URL = \"/Users/katrinasharonin/Downloads/OR_ABI-L2-FDCC-M3_G17_s20182390052191_e20182390054564_c20182390055159.nc\"\n",
    "OUTPUTFILE = \"/Users/katrinasharonin/Downloads/kerchunkC/jsons/sliderule_md_inspect.json\"\n",
    "\n",
    "print(\"Start JSON extraction from H5 file...\")\n",
    "process(URL, OUTPUTFILE)\n",
    "print(\"JSON extraction complete\")"
   ]
  },
  {
   "cell_type": "markdown",
   "metadata": {},
   "source": [
    "### Slice and dice"
   ]
  },
  {
   "cell_type": "code",
   "execution_count": 2,
   "metadata": {},
   "outputs": [],
   "source": [
    "import xarray as xr \n",
    "\n",
    "group_path = \"ancillary_data/calibrations/first_photon_bias/gt1l\"\n",
    "ds = xr.open_dataset(URL) #, group=group_path)"
   ]
  },
  {
   "cell_type": "code",
   "execution_count": 3,
   "metadata": {},
   "outputs": [
    {
     "name": "stdout",
     "output_type": "stream",
     "text": [
      "<xarray.Dataset>\n",
      "Dimensions:                                           (y: 1500, x: 2500,\n",
      "                                                       number_of_time_bounds: 2,\n",
      "                                                       number_of_image_bounds: 2,\n",
      "                                                       number_of_sunglint_angle_bounds: 2,\n",
      "                                                       number_of_LZA_bounds: 2,\n",
      "                                                       number_of_SZA_bounds: 2)\n",
      "Coordinates:\n",
      "    t                                                 datetime64[ns] ...\n",
      "  * y                                                 (y) float64 0.1265 ... ...\n",
      "  * x                                                 (x) float64 -0.07501 .....\n",
      "    y_image                                           float32 ...\n",
      "    x_image                                           float32 ...\n",
      "    sunglint_angle                                    float32 ...\n",
      "    local_zenith_angle                                float32 ...\n",
      "    solar_zenith_angle                                float32 ...\n",
      "Dimensions without coordinates: number_of_time_bounds, number_of_image_bounds,\n",
      "                                number_of_sunglint_angle_bounds,\n",
      "                                number_of_LZA_bounds, number_of_SZA_bounds\n",
      "Data variables: (12/40)\n",
      "    Area                                              (y, x) float32 ...\n",
      "    Temp                                              (y, x) float32 ...\n",
      "    Mask                                              (y, x) float32 ...\n",
      "    Power                                             (y, x) float32 ...\n",
      "    DQF                                               (y, x) float32 ...\n",
      "    time_bounds                                       (number_of_time_bounds) datetime64[ns] ...\n",
      "    ...                                                ...\n",
      "    standard_deviation_fire_radiative_power           float32 ...\n",
      "    algorithm_dynamic_input_data_container            int32 ...\n",
      "    processing_parm_version_container                 int32 ...\n",
      "    algorithm_product_version_container               int32 ...\n",
      "    percent_uncorrectable_GRB_errors                  float32 ...\n",
      "    percent_uncorrectable_L0_errors                   float32 ...\n",
      "Attributes: (12/29)\n",
      "    naming_authority:          gov.nesdis.noaa\n",
      "    Conventions:               CF-1.7\n",
      "    Metadata_Conventions:      Unidata Dataset Discovery v1.0\n",
      "    standard_name_vocabulary:  CF Standard Name Table (v25, 05 July 2013)\n",
      "    institution:               DOC/NOAA/NESDIS > U.S. Department of Commerce,...\n",
      "    project:                   GOES\n",
      "    ...                        ...\n",
      "    cdm_data_type:             Image\n",
      "    time_coverage_start:       2018-08-27T00:52:19.1Z\n",
      "    time_coverage_end:         2018-08-27T00:54:56.4Z\n",
      "    timeline_id:               ABI Mode 3\n",
      "    production_data_source:    Realtime\n",
      "    id:                        ad45dd89-8b9d-434c-a3ed-6fa2bee92cbb\n"
     ]
    }
   ],
   "source": [
    "print(ds)"
   ]
  },
  {
   "cell_type": "code",
   "execution_count": null,
   "metadata": {},
   "outputs": [],
   "source": []
  }
 ],
 "metadata": {
  "kernelspec": {
   "display_name": "kerchunkc",
   "language": "python",
   "name": "python3"
  },
  "language_info": {
   "codemirror_mode": {
    "name": "ipython",
    "version": 3
   },
   "file_extension": ".py",
   "mimetype": "text/x-python",
   "name": "python",
   "nbconvert_exporter": "python",
   "pygments_lexer": "ipython3",
   "version": "3.8.18"
  }
 },
 "nbformat": 4,
 "nbformat_minor": 2
}
